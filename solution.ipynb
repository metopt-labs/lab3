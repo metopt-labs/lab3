{
 "cells": [
  {
   "cell_type": "code",
   "execution_count": 266,
   "metadata": {
    "collapsed": true
   },
   "outputs": [],
   "source": [
    "import numpy as np\n",
    "import matplotlib.pyplot as plt"
   ]
  },
  {
   "cell_type": "markdown",
   "source": [
    "# Задание 1\n",
    "## Гаусс-Ньютон - реализация"
   ],
   "metadata": {
    "collapsed": false,
    "pycharm": {
     "name": "#%% md\n"
    }
   }
  },
  {
   "cell_type": "code",
   "execution_count": 267,
   "outputs": [],
   "source": [
    "class GaussNewton:\n",
    "    def __init__(self, func, eps, max_iterations):\n",
    "        self.func = func\n",
    "        self.eps = eps\n",
    "        self.max_iterations = max_iterations\n",
    "        self.X = None\n",
    "        self.Y = None\n",
    "        self.B0 = None\n",
    "\n",
    "    def fit(self, X, Y, B0):\n",
    "        self.X = X\n",
    "        self.Y = Y\n",
    "        self.B = B0\n",
    "\n",
    "        error_prev = np.inf\n",
    "        final_iterations = 0\n",
    "        for iteration in range(self.max_iterations):\n",
    "            diff = self.calculateDiff(self.B)\n",
    "            J = self.calculateJacobian(self.B)\n",
    "            self.B -= self.pseudoInverse(J) @ diff\n",
    "            error = np.sqrt(np.sum(diff**2))\n",
    "\n",
    "            print(f\"Iteration: {iteration}, error: {error}\")\n",
    "\n",
    "            error_diff = np.abs(error_prev - error)\n",
    "            if error_diff < self.eps:\n",
    "                return self.B\n",
    "\n",
    "            error_prev = error\n",
    "            final_iterations = iteration\n",
    "\n",
    "        return self.B, final_iterations\n",
    "\n",
    "    def calculateDiff(self, B):\n",
    "        Y_pred = self.func(self.X, B)\n",
    "        return Y_pred - self.Y\n",
    "\n",
    "    def calculateJacobian(self, B0, step = 1e-6):\n",
    "        Y0 = self.calculateDiff(B0)\n",
    "        J = []\n",
    "        for i, parameter in enumerate(B0):\n",
    "            B = B0.copy()\n",
    "            B[i] += step\n",
    "            Y = self.calculateDiff(B)\n",
    "            derivative = (Y - Y0) / step\n",
    "            J.append(derivative)\n",
    "        J = np.array(J).T\n",
    "\n",
    "        return J\n",
    "\n",
    "    def pseudoInverse(self, X):\n",
    "        return np.linalg.inv(X.T @ X) @ X.T\n",
    "\n",
    "    def fitFunction(self):\n",
    "        return self.func(self.X, self.B)"
   ],
   "metadata": {
    "collapsed": false,
    "pycharm": {
     "name": "#%%\n"
    }
   }
  },
  {
   "cell_type": "code",
   "execution_count": 268,
   "outputs": [],
   "source": [
    "# while True:\n",
    "#     iterations += 1\n",
    "#     j1 = -(X / (B0[1] + X))\n",
    "#     j2 = (B0[0] * X) / (B0[1] + X)**2\n",
    "#     J[:,0] = j1\n",
    "#     J[:,1] = j2\n",
    "#\n",
    "#     diff = Y - (B0[0] * X) / (B0[1] + X)\n",
    "#     t1 = np.linalg.inv(np.dot(J.T, J))\n",
    "#     t2 = np.dot(t1, J.T)\n",
    "#     t3 = np.dot(t2, diff)\n",
    "#\n",
    "#     B1 = B0 - t3\n",
    "#     t4 = abs(B1 - B0)\n",
    "#     if max(t4) <= eps:\n",
    "#         break\n",
    "#     B0 = B1\n",
    "#\n",
    "# c1 = float('{:.4f}'.format(B0[0]))\n",
    "# c2 = float('{:.4f}'.format(B0[1]))\n",
    "# print(c1, c2)"
   ],
   "metadata": {
    "collapsed": false,
    "pycharm": {
     "name": "#%%\n"
    }
   }
  },
  {
   "cell_type": "code",
   "execution_count": 269,
   "outputs": [],
   "source": [
    "def runGaussNewton(N = 10, eps = 1e-15, randCoeff = 0.2, max_iterations=1000):\n",
    "    def func(X, B):\n",
    "        return (B[0] + B[1] * X) / (X**2 + B[1]) + np.sin(X)\n",
    "\n",
    "    def generateStartingValues():\n",
    "        X = np.linspace(1, N, N)\n",
    "        B = np.random.rand(2)\n",
    "        Y = func(X, B) + randCoeff * np.random.rand(N)\n",
    "        return X, B, Y\n",
    "\n",
    "    X, B, Y = generateStartingValues()\n",
    "    B0 = [1, 1]\n",
    "\n",
    "    gauss_newton = GaussNewton(func, eps, max_iterations)\n",
    "    Bf, iterations = gauss_newton.fit(X, Y, B0)\n",
    "    fit = gauss_newton.fitFunction()\n",
    "    print(X)\n",
    "    print(fit)\n",
    "\n",
    "    plt.figure(1, figsize=(6, 4), dpi=120)\n",
    "    plt.scatter(X, Y, color='red')\n",
    "    plt.plot(X, fit, color='Blue')\n",
    "    plt.xlabel(\"X\")\n",
    "    plt.ylabel(\"Y\")\n",
    "    plt.title(f\"iterations: {iterations}\")\n",
    "    plt.show()"
   ],
   "metadata": {
    "collapsed": false,
    "pycharm": {
     "name": "#%%\n"
    }
   }
  },
  {
   "cell_type": "markdown",
   "source": [
    "### Гаусс-Ньютон - запуск"
   ],
   "metadata": {
    "collapsed": false,
    "pycharm": {
     "name": "#%% md\n"
    }
   }
  },
  {
   "cell_type": "code",
   "execution_count": 270,
   "outputs": [
    {
     "name": "stdout",
     "output_type": "stream",
     "text": [
      "Iteration: 0, error: 0.8093244115180595\n",
      "Iteration: 1, error: 0.20439478305429423\n",
      "Iteration: 2, error: 0.1277932172613522\n",
      "Iteration: 3, error: 0.12768939063493223\n",
      "Iteration: 4, error: 0.12768938581299874\n",
      "Iteration: 5, error: 0.12768938581107836\n",
      "Iteration: 6, error: 0.12768938581107503\n",
      "Iteration: 7, error: 0.12768938581107506\n",
      "[ 1.  2.  3.  4.  5.  6.  7.  8.  9. 10.]\n",
      "[ 1.21547488  1.15619652  0.31571507 -0.62317408 -0.85106506 -0.18912544\n",
      "  0.73457343  1.0573485   0.47261052 -0.48954584]\n"
     ]
    },
    {
     "data": {
      "text/plain": "<Figure size 720x480 with 1 Axes>",
      "image/png": "[encoded data removed]"
     },
     "metadata": {
      "needs_background": "light"
     },
     "output_type": "display_data"
    }
   ],
   "source": [
    "runGaussNewton()"
   ],
   "metadata": {
    "collapsed": false,
    "pycharm": {
     "name": "#%%\n"
    }
   }
  }
 ],
 "metadata": {
  "kernelspec": {
   "display_name": "Python 3",
   "language": "python",
   "name": "python3"
  },
  "language_info": {
   "codemirror_mode": {
    "name": "ipython",
    "version": 2
   },
   "file_extension": ".py",
   "mimetype": "text/x-python",
   "name": "python",
   "nbconvert_exporter": "python",
   "pygments_lexer": "ipython2",
   "version": "2.7.6"
  }
 },
 "nbformat": 4,
 "nbformat_minor": 0
}